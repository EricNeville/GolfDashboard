{
 "cells": [
  {
   "cell_type": "code",
   "execution_count": 1,
   "metadata": {},
   "outputs": [
    {
     "name": "stderr",
     "output_type": "stream",
     "text": [
      "C:\\Users\\ericn\\anaconda3\\lib\\site-packages\\dash_bootstrap_components\\_table.py:5: UserWarning: \n",
      "The dash_html_components package is deprecated. Please replace\n",
      "`import dash_html_components as html` with `from dash import html`\n",
      "  import dash_html_components as html\n"
     ]
    }
   ],
   "source": [
    "import dash\n",
    "import dash_bootstrap_components as dbc\n",
    "from dash import dcc\n",
    "from dash import html\n",
    "from dash.dependencies import Input, Output, State\n",
    "\n",
    "import pandas as pd\n",
    "import numpy as np \n",
    "import plotly.graph_objects as go\n",
    "import glob\n",
    "import json"
   ]
  },
  {
   "cell_type": "code",
   "execution_count": 2,
   "metadata": {},
   "outputs": [],
   "source": [
    "app = dash.Dash(\n",
    "    external_stylesheets=[dbc.themes.BOOTSTRAP]\n",
    ")\n",
    "\n",
    "app.layout = html.Div([\n",
    "    html.Button(\"Reload Course Options\", id= \"course_reset\", style = {\"margin-bottom\":20}),\n",
    "    html.Div(children = [\n",
    "        dcc.Dropdown(id = \"course_select\", placeholder = \"Select Course\"),\n",
    "        dcc.Dropdown(id = \"tee_select\", placeholder = \"Select Tees\")],\n",
    "        style = {\"width\": \"25%\" }\n",
    "    ),\n",
    "    html.Div(id = \"course_options\")\n",
    "])\n",
    "                "
   ]
  },
  {
   "cell_type": "code",
   "execution_count": 3,
   "metadata": {},
   "outputs": [],
   "source": [
    "@app.callback(\n",
    "    [Output(component_id = \"course_select\", component_property = \"options\"),\n",
    "     Output(component_id = \"course_options\", component_property = \"children\")],\n",
    "     Input(component_id = \"course_reset\", component_property = \"n_clicks\")\n",
    ")\n",
    "def load_courses(button):\n",
    "    print(\"courses running\")\n",
    "    courses = {}\n",
    "    for card in glob.glob(\"./Courses/*.csv\"):\n",
    "        course = card.split(\"\\\\\")[1].split(\"_\")\n",
    "        tees = course[-1].replace(\".csv\", \"\")\n",
    "        course = \" \".join(course[:-1])\n",
    "        if course in courses.keys():\n",
    "            courses[course].append(tees)\n",
    "        else:\n",
    "            courses[course] = [tees]\n",
    "        \n",
    "    course_choices = [{\"label\": c, \"value\": c} for c in courses.keys()]\n",
    "    print(course_choices)\n",
    "    return course_choices, json.dumps(courses)\n",
    "\n",
    "@app.callback(\n",
    "    Output(component_id = \"tee_select\", component_property = \"options\"),\n",
    "    Input(component_id = \"course_select\", component_property = \"value\"),\n",
    "    State(component_id = \"course_options\", component_property = \"children\")\n",
    ")\n",
    "def load_tees(course, all_courses):\n",
    "    print(\"tees running\")\n",
    "    if course == None:\n",
    "        return None\n",
    "    else:\n",
    "        print([{\"label\": t, \"value\": t} for t in json.loads(all_courses)[course]])\n",
    "        return [{\"label\": t, \"value\": t} for t in json.loads(all_courses)[course]]"
   ]
  },
  {
   "cell_type": "code",
   "execution_count": 4,
   "metadata": {},
   "outputs": [
    {
     "name": "stdout",
     "output_type": "stream",
     "text": [
      "Dash is running on http://127.0.0.1:8050/\n",
      "\n",
      " * Serving Flask app \"__main__\" (lazy loading)\n",
      " * Environment: production\n",
      "   WARNING: This is a development server. Do not use it in a production deployment.\n",
      "   Use a production WSGI server instead.\n",
      " * Debug mode: off\n"
     ]
    },
    {
     "name": "stderr",
     "output_type": "stream",
     "text": [
      " * Running on http://127.0.0.1:8050/ (Press CTRL+C to quit)\n",
      "127.0.0.1 - - [10/Sep/2021 21:42:54] \"\u001b[37mGET / HTTP/1.1\u001b[0m\" 200 -\n",
      "127.0.0.1 - - [10/Sep/2021 21:42:55] \"\u001b[37mGET /_dash-layout HTTP/1.1\u001b[0m\" 200 -\n",
      "127.0.0.1 - - [10/Sep/2021 21:42:55] \"\u001b[37mGET /_dash-dependencies HTTP/1.1\u001b[0m\" 200 -\n",
      "127.0.0.1 - - [10/Sep/2021 21:42:55] \"\u001b[37mGET /_dash-component-suites/dash/dcc/async-dropdown.js HTTP/1.1\u001b[0m\" 200 -\n",
      "127.0.0.1 - - [10/Sep/2021 21:42:55] \"\u001b[37mPOST /_dash-update-component HTTP/1.1\u001b[0m\" 200 -\n",
      "127.0.0.1 - - [10/Sep/2021 21:42:55] \"\u001b[37mPOST /_dash-update-component HTTP/1.1\u001b[0m\" 200 -\n"
     ]
    },
    {
     "name": "stdout",
     "output_type": "stream",
     "text": [
      "courses running\n",
      "[{'label': 'St Margarets', 'value': 'St Margarets'}]tees running\n",
      "\n"
     ]
    },
    {
     "name": "stderr",
     "output_type": "stream",
     "text": [
      "127.0.0.1 - - [10/Sep/2021 21:42:57] \"\u001b[37mPOST /_dash-update-component HTTP/1.1\u001b[0m\" 200 -\n"
     ]
    },
    {
     "name": "stdout",
     "output_type": "stream",
     "text": [
      "tees running\n",
      "[{'label': 'Blue', 'value': 'Blue'}]\n"
     ]
    }
   ],
   "source": [
    "if __name__ == \"__main__\":\n",
    "    app.run_server()"
   ]
  },
  {
   "cell_type": "code",
   "execution_count": 10,
   "metadata": {},
   "outputs": [
    {
     "data": {
      "text/plain": [
       "[{'Hole ': 1,\n",
       "  'Par': 4,\n",
       "  'Index': 13,\n",
       "  'Yardage': 336,\n",
       "  'Strokes': '',\n",
       "  'Stableford': '',\n",
       "  'Putts': '',\n",
       "  'Drive': ''},\n",
       " {'Hole ': 2,\n",
       "  'Par': 3,\n",
       "  'Index': 17,\n",
       "  'Yardage': 125,\n",
       "  'Strokes': '',\n",
       "  'Stableford': '',\n",
       "  'Putts': '',\n",
       "  'Drive': ''},\n",
       " {'Hole ': 3,\n",
       "  'Par': 5,\n",
       "  'Index': 11,\n",
       "  'Yardage': 491,\n",
       "  'Strokes': '',\n",
       "  'Stableford': '',\n",
       "  'Putts': '',\n",
       "  'Drive': ''},\n",
       " {'Hole ': 4,\n",
       "  'Par': 4,\n",
       "  'Index': 1,\n",
       "  'Yardage': 428,\n",
       "  'Strokes': '',\n",
       "  'Stableford': '',\n",
       "  'Putts': '',\n",
       "  'Drive': ''},\n",
       " {'Hole ': 5,\n",
       "  'Par': 3,\n",
       "  'Index': 15,\n",
       "  'Yardage': 153,\n",
       "  'Strokes': '',\n",
       "  'Stableford': '',\n",
       "  'Putts': '',\n",
       "  'Drive': ''},\n",
       " {'Hole ': 6,\n",
       "  'Par': 4,\n",
       "  'Index': 3,\n",
       "  'Yardage': 408,\n",
       "  'Strokes': '',\n",
       "  'Stableford': '',\n",
       "  'Putts': '',\n",
       "  'Drive': ''},\n",
       " {'Hole ': 7,\n",
       "  'Par': 4,\n",
       "  'Index': 5,\n",
       "  'Yardage': 353,\n",
       "  'Strokes': '',\n",
       "  'Stableford': '',\n",
       "  'Putts': '',\n",
       "  'Drive': ''},\n",
       " {'Hole ': 8,\n",
       "  'Par': 5,\n",
       "  'Index': 9,\n",
       "  'Yardage': 473,\n",
       "  'Strokes': '',\n",
       "  'Stableford': '',\n",
       "  'Putts': '',\n",
       "  'Drive': ''},\n",
       " {'Hole ': 9,\n",
       "  'Par': 4,\n",
       "  'Index': 7,\n",
       "  'Yardage': 378,\n",
       "  'Strokes': '',\n",
       "  'Stableford': '',\n",
       "  'Putts': '',\n",
       "  'Drive': ''},\n",
       " {'Hole ': 10,\n",
       "  'Par': 4,\n",
       "  'Index': 10,\n",
       "  'Yardage': 368,\n",
       "  'Strokes': '',\n",
       "  'Stableford': '',\n",
       "  'Putts': '',\n",
       "  'Drive': ''},\n",
       " {'Hole ': 11,\n",
       "  'Par': 4,\n",
       "  'Index': 6,\n",
       "  'Yardage': 343,\n",
       "  'Strokes': '',\n",
       "  'Stableford': '',\n",
       "  'Putts': '',\n",
       "  'Drive': ''},\n",
       " {'Hole ': 12,\n",
       "  'Par': 5,\n",
       "  'Index': 18,\n",
       "  'Yardage': 458,\n",
       "  'Strokes': '',\n",
       "  'Stableford': '',\n",
       "  'Putts': '',\n",
       "  'Drive': ''},\n",
       " {'Hole ': 13,\n",
       "  'Par': 3,\n",
       "  'Index': 12,\n",
       "  'Yardage': 152,\n",
       "  'Strokes': '',\n",
       "  'Stableford': '',\n",
       "  'Putts': '',\n",
       "  'Drive': ''},\n",
       " {'Hole ': 14,\n",
       "  'Par': 4,\n",
       "  'Index': 4,\n",
       "  'Yardage': 383,\n",
       "  'Strokes': '',\n",
       "  'Stableford': '',\n",
       "  'Putts': '',\n",
       "  'Drive': ''},\n",
       " {'Hole ': 15,\n",
       "  'Par': 3,\n",
       "  'Index': 14,\n",
       "  'Yardage': 148,\n",
       "  'Strokes': '',\n",
       "  'Stableford': '',\n",
       "  'Putts': '',\n",
       "  'Drive': ''},\n",
       " {'Hole ': 16,\n",
       "  'Par': 5,\n",
       "  'Index': 16,\n",
       "  'Yardage': 430,\n",
       "  'Strokes': '',\n",
       "  'Stableford': '',\n",
       "  'Putts': '',\n",
       "  'Drive': ''},\n",
       " {'Hole ': 17,\n",
       "  'Par': 5,\n",
       "  'Index': 8,\n",
       "  'Yardage': 492,\n",
       "  'Strokes': '',\n",
       "  'Stableford': '',\n",
       "  'Putts': '',\n",
       "  'Drive': ''},\n",
       " {'Hole ': 18,\n",
       "  'Par': 4,\n",
       "  'Index': 2,\n",
       "  'Yardage': 425,\n",
       "  'Strokes': '',\n",
       "  'Stableford': '',\n",
       "  'Putts': '',\n",
       "  'Drive': ''}]"
      ]
     },
     "execution_count": 10,
     "metadata": {},
     "output_type": "execute_result"
    }
   ],
   "source": [
    "[dict(pd.read_csv(\"Courses/St_Margarets_White.csv\").fillna(\"\").iloc[i,:]) for i in range(len(pd.read_csv(\"Courses/St_Margarets_White.csv\").fillna(\"\")))]"
   ]
  },
  {
   "cell_type": "code",
   "execution_count": null,
   "metadata": {},
   "outputs": [],
   "source": []
  }
 ],
 "metadata": {
  "kernelspec": {
   "display_name": "Python 3",
   "language": "python",
   "name": "python3"
  },
  "language_info": {
   "codemirror_mode": {
    "name": "ipython",
    "version": 3
   },
   "file_extension": ".py",
   "mimetype": "text/x-python",
   "name": "python",
   "nbconvert_exporter": "python",
   "pygments_lexer": "ipython3",
   "version": "3.8.5"
  }
 },
 "nbformat": 4,
 "nbformat_minor": 4
}
